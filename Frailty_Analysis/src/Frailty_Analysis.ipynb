{
 "cells": [
  {
   "cell_type": "code",
   "execution_count": 739,
   "id": "54756377-2dcd-42ef-8c34-ca7d5f0308c6",
   "metadata": {},
   "outputs": [],
   "source": [
    "import pandas as pd\n",
    "import os\n",
    "import matplotlib.pyplot as plt\n",
    "import seaborn as sns"
   ]
  },
  {
   "cell_type": "markdown",
   "id": "5cfae91d-5bc5-4fbb-a77f-0bfb6ce1214a",
   "metadata": {},
   "source": [
    "Creating the dataset"
   ]
  },
  {
   "cell_type": "code",
   "execution_count": 740,
   "id": "7640b674-9610-47ef-804a-06e184eb97c5",
   "metadata": {},
   "outputs": [],
   "source": [
    "data = {\n",
    "    \"Height\": [65.8, 71.5, 69.4, 68.2, 67.8, 68.7, 69.8, 70.1, 67.9, 66.8],\n",
    "    \"Weight\": [112, 136, 153, 142, 144, 123, 141, 136, 112, 120],\n",
    "    \"Age\": [30, 19, 45, 22, 29, 50, 51, 23, 17, 39],\n",
    "    \"Grip Strength\": [30, 31, 29, 28, 24, 26, 22, 20, 19, 31],\n",
    "    \"Frailty\": [\"N\", \"N\", \"N\", \"Y\", \"Y\", \"N\", \"Y\", \"Y\", \"N\", \"N\"]\n",
    "}"
   ]
  },
  {
   "cell_type": "markdown",
   "id": "0cb9db15-49d9-483c-8989-c07183b2a335",
   "metadata": {},
   "source": [
    "Creating a DataFrame\n"
   ]
  },
  {
   "cell_type": "code",
   "execution_count": 741,
   "id": "16fd916e-2512-4308-9530-a23c6fcf7316",
   "metadata": {},
   "outputs": [],
   "source": [
    "df = pd.DataFrame(data)"
   ]
  },
  {
   "cell_type": "markdown",
   "id": "dc20499d-3e1c-4761-b69c-cdf4d84d279b",
   "metadata": {},
   "source": [
    "Saving the raw data into a directory\n"
   ]
  },
  {
   "cell_type": "code",
   "execution_count": 742,
   "id": "140fc57d-d011-420c-99e5-54ed4cf36d1c",
   "metadata": {},
   "outputs": [],
   "source": [
    "os.makedirs(\"/Users/dgmmz/OneDrive - University of Missouri/Documents/PDS/Assignment-1/Frailty_Analysis/data_raw\", exist_ok=True)\n"
   ]
  },
  {
   "cell_type": "code",
   "execution_count": 743,
   "id": "fd69e6b7-844a-4cd2-af80-7c2c368e038a",
   "metadata": {},
   "outputs": [
    {
     "name": "stdout",
     "output_type": "stream",
     "text": [
      "Raw data saved successfully in 'data_raw/raw_data.csv'.\n"
     ]
    }
   ],
   "source": [
    "df.to_csv(\"/Users/dgmmz/OneDrive - University of Missouri/Documents/PDS/Assignment-1/Frailty_Analysis/data_raw/raw_data.csv\", index=False)\n",
    "print(\"Raw data saved successfully in 'data_raw/raw_data.csv'.\")"
   ]
  },
  {
   "cell_type": "markdown",
   "id": "2f0a7e7e-02d6-41bc-9ca0-7282d8d23aec",
   "metadata": {},
   "source": [
    "Loading raw data"
   ]
  },
  {
   "cell_type": "code",
   "execution_count": 744,
   "id": "80e410c9-c718-49f2-bffe-db735512cfb4",
   "metadata": {},
   "outputs": [
    {
     "data": {
      "text/html": [
       "<div>\n",
       "<style scoped>\n",
       "    .dataframe tbody tr th:only-of-type {\n",
       "        vertical-align: middle;\n",
       "    }\n",
       "\n",
       "    .dataframe tbody tr th {\n",
       "        vertical-align: top;\n",
       "    }\n",
       "\n",
       "    .dataframe thead th {\n",
       "        text-align: right;\n",
       "    }\n",
       "</style>\n",
       "<table border=\"1\" class=\"dataframe\">\n",
       "  <thead>\n",
       "    <tr style=\"text-align: right;\">\n",
       "      <th></th>\n",
       "      <th>Height</th>\n",
       "      <th>Weight</th>\n",
       "      <th>Age</th>\n",
       "      <th>Grip Strength</th>\n",
       "      <th>Frailty</th>\n",
       "    </tr>\n",
       "  </thead>\n",
       "  <tbody>\n",
       "    <tr>\n",
       "      <th>0</th>\n",
       "      <td>65.8</td>\n",
       "      <td>112</td>\n",
       "      <td>30</td>\n",
       "      <td>30</td>\n",
       "      <td>N</td>\n",
       "    </tr>\n",
       "    <tr>\n",
       "      <th>1</th>\n",
       "      <td>71.5</td>\n",
       "      <td>136</td>\n",
       "      <td>19</td>\n",
       "      <td>31</td>\n",
       "      <td>N</td>\n",
       "    </tr>\n",
       "    <tr>\n",
       "      <th>2</th>\n",
       "      <td>69.4</td>\n",
       "      <td>153</td>\n",
       "      <td>45</td>\n",
       "      <td>29</td>\n",
       "      <td>N</td>\n",
       "    </tr>\n",
       "    <tr>\n",
       "      <th>3</th>\n",
       "      <td>68.2</td>\n",
       "      <td>142</td>\n",
       "      <td>22</td>\n",
       "      <td>28</td>\n",
       "      <td>Y</td>\n",
       "    </tr>\n",
       "    <tr>\n",
       "      <th>4</th>\n",
       "      <td>67.8</td>\n",
       "      <td>144</td>\n",
       "      <td>29</td>\n",
       "      <td>24</td>\n",
       "      <td>Y</td>\n",
       "    </tr>\n",
       "    <tr>\n",
       "      <th>5</th>\n",
       "      <td>68.7</td>\n",
       "      <td>123</td>\n",
       "      <td>50</td>\n",
       "      <td>26</td>\n",
       "      <td>N</td>\n",
       "    </tr>\n",
       "    <tr>\n",
       "      <th>6</th>\n",
       "      <td>69.8</td>\n",
       "      <td>141</td>\n",
       "      <td>51</td>\n",
       "      <td>22</td>\n",
       "      <td>Y</td>\n",
       "    </tr>\n",
       "    <tr>\n",
       "      <th>7</th>\n",
       "      <td>70.1</td>\n",
       "      <td>136</td>\n",
       "      <td>23</td>\n",
       "      <td>20</td>\n",
       "      <td>Y</td>\n",
       "    </tr>\n",
       "    <tr>\n",
       "      <th>8</th>\n",
       "      <td>67.9</td>\n",
       "      <td>112</td>\n",
       "      <td>17</td>\n",
       "      <td>19</td>\n",
       "      <td>N</td>\n",
       "    </tr>\n",
       "    <tr>\n",
       "      <th>9</th>\n",
       "      <td>66.8</td>\n",
       "      <td>120</td>\n",
       "      <td>39</td>\n",
       "      <td>31</td>\n",
       "      <td>N</td>\n",
       "    </tr>\n",
       "  </tbody>\n",
       "</table>\n",
       "</div>"
      ],
      "text/plain": [
       "   Height  Weight  Age  Grip Strength Frailty\n",
       "0    65.8     112   30             30       N\n",
       "1    71.5     136   19             31       N\n",
       "2    69.4     153   45             29       N\n",
       "3    68.2     142   22             28       Y\n",
       "4    67.8     144   29             24       Y\n",
       "5    68.7     123   50             26       N\n",
       "6    69.8     141   51             22       Y\n",
       "7    70.1     136   23             20       Y\n",
       "8    67.9     112   17             19       N\n",
       "9    66.8     120   39             31       N"
      ]
     },
     "execution_count": 744,
     "metadata": {},
     "output_type": "execute_result"
    }
   ],
   "source": [
    "df = pd.read_csv(\"/Users/dgmmz/OneDrive - University of Missouri/Documents/PDS/Assignment-1/Frailty_Analysis/data_raw/raw_data.csv\")\n",
    "df"
   ]
  },
  {
   "cell_type": "markdown",
   "id": "eda55a8d-f4c4-4a16-953b-7f80338d6c8c",
   "metadata": {},
   "source": [
    "Handling missing values"
   ]
  },
  {
   "cell_type": "code",
   "execution_count": 745,
   "id": "4381c2e9-4188-4e02-985f-ea5851ef20ea",
   "metadata": {},
   "outputs": [],
   "source": [
    "df_cleaned = df.dropna()"
   ]
  },
  {
   "cell_type": "code",
   "execution_count": 746,
   "id": "5fd19ecd-d110-48ff-a17c-2d26b23edee1",
   "metadata": {},
   "outputs": [
    {
     "data": {
      "text/plain": [
       "Height           0\n",
       "Weight           0\n",
       "Age              0\n",
       "Grip Strength    0\n",
       "Frailty          0\n",
       "dtype: int64"
      ]
     },
     "execution_count": 746,
     "metadata": {},
     "output_type": "execute_result"
    }
   ],
   "source": [
    "df_cleaned.isnull().sum()"
   ]
  },
  {
   "cell_type": "markdown",
   "id": "8d44c396-200a-48cf-bf2c-f242121e521e",
   "metadata": {},
   "source": [
    "Handling Categorical column - Frailty (Convert 'N' to 0 and 'Y' to 1)"
   ]
  },
  {
   "cell_type": "code",
   "execution_count": 747,
   "id": "e94814be-12ea-4fb4-9a97-8f2d8f8d4343",
   "metadata": {},
   "outputs": [
    {
     "data": {
      "text/html": [
       "<div>\n",
       "<style scoped>\n",
       "    .dataframe tbody tr th:only-of-type {\n",
       "        vertical-align: middle;\n",
       "    }\n",
       "\n",
       "    .dataframe tbody tr th {\n",
       "        vertical-align: top;\n",
       "    }\n",
       "\n",
       "    .dataframe thead th {\n",
       "        text-align: right;\n",
       "    }\n",
       "</style>\n",
       "<table border=\"1\" class=\"dataframe\">\n",
       "  <thead>\n",
       "    <tr style=\"text-align: right;\">\n",
       "      <th></th>\n",
       "      <th>Height</th>\n",
       "      <th>Weight</th>\n",
       "      <th>Age</th>\n",
       "      <th>Grip Strength</th>\n",
       "      <th>Frailty</th>\n",
       "    </tr>\n",
       "  </thead>\n",
       "  <tbody>\n",
       "    <tr>\n",
       "      <th>0</th>\n",
       "      <td>65.8</td>\n",
       "      <td>112</td>\n",
       "      <td>30</td>\n",
       "      <td>30</td>\n",
       "      <td>0</td>\n",
       "    </tr>\n",
       "    <tr>\n",
       "      <th>1</th>\n",
       "      <td>71.5</td>\n",
       "      <td>136</td>\n",
       "      <td>19</td>\n",
       "      <td>31</td>\n",
       "      <td>0</td>\n",
       "    </tr>\n",
       "    <tr>\n",
       "      <th>2</th>\n",
       "      <td>69.4</td>\n",
       "      <td>153</td>\n",
       "      <td>45</td>\n",
       "      <td>29</td>\n",
       "      <td>0</td>\n",
       "    </tr>\n",
       "    <tr>\n",
       "      <th>3</th>\n",
       "      <td>68.2</td>\n",
       "      <td>142</td>\n",
       "      <td>22</td>\n",
       "      <td>28</td>\n",
       "      <td>1</td>\n",
       "    </tr>\n",
       "    <tr>\n",
       "      <th>4</th>\n",
       "      <td>67.8</td>\n",
       "      <td>144</td>\n",
       "      <td>29</td>\n",
       "      <td>24</td>\n",
       "      <td>1</td>\n",
       "    </tr>\n",
       "    <tr>\n",
       "      <th>5</th>\n",
       "      <td>68.7</td>\n",
       "      <td>123</td>\n",
       "      <td>50</td>\n",
       "      <td>26</td>\n",
       "      <td>0</td>\n",
       "    </tr>\n",
       "    <tr>\n",
       "      <th>6</th>\n",
       "      <td>69.8</td>\n",
       "      <td>141</td>\n",
       "      <td>51</td>\n",
       "      <td>22</td>\n",
       "      <td>1</td>\n",
       "    </tr>\n",
       "    <tr>\n",
       "      <th>7</th>\n",
       "      <td>70.1</td>\n",
       "      <td>136</td>\n",
       "      <td>23</td>\n",
       "      <td>20</td>\n",
       "      <td>1</td>\n",
       "    </tr>\n",
       "    <tr>\n",
       "      <th>8</th>\n",
       "      <td>67.9</td>\n",
       "      <td>112</td>\n",
       "      <td>17</td>\n",
       "      <td>19</td>\n",
       "      <td>0</td>\n",
       "    </tr>\n",
       "    <tr>\n",
       "      <th>9</th>\n",
       "      <td>66.8</td>\n",
       "      <td>120</td>\n",
       "      <td>39</td>\n",
       "      <td>31</td>\n",
       "      <td>0</td>\n",
       "    </tr>\n",
       "  </tbody>\n",
       "</table>\n",
       "</div>"
      ],
      "text/plain": [
       "   Height  Weight  Age  Grip Strength  Frailty\n",
       "0    65.8     112   30             30        0\n",
       "1    71.5     136   19             31        0\n",
       "2    69.4     153   45             29        0\n",
       "3    68.2     142   22             28        1\n",
       "4    67.8     144   29             24        1\n",
       "5    68.7     123   50             26        0\n",
       "6    69.8     141   51             22        1\n",
       "7    70.1     136   23             20        1\n",
       "8    67.9     112   17             19        0\n",
       "9    66.8     120   39             31        0"
      ]
     },
     "execution_count": 747,
     "metadata": {},
     "output_type": "execute_result"
    }
   ],
   "source": [
    "df_cleaned[\"Frailty\"] = df_cleaned[\"Frailty\"].map({\"N\": 0, \"Y\": 1})\n",
    "df_cleaned\n"
   ]
  },
  {
   "cell_type": "markdown",
   "id": "5dc7abae-3fe7-4b76-9b9f-1b9adaf2d060",
   "metadata": {},
   "source": [
    "Saving cleaned data\n"
   ]
  },
  {
   "cell_type": "code",
   "execution_count": 748,
   "id": "4b58d038-205c-495b-8df6-7a2082f540e6",
   "metadata": {},
   "outputs": [],
   "source": [
    "os.makedirs(\"/Users/dgmmz/OneDrive - University of Missouri/Documents/PDS/Assignment-1/Frailty_Analysis/data_clean\", exist_ok=True)\n"
   ]
  },
  {
   "cell_type": "code",
   "execution_count": 749,
   "id": "6b1e29c4-433f-4c8c-8ce4-c90db52d4612",
   "metadata": {},
   "outputs": [
    {
     "name": "stdout",
     "output_type": "stream",
     "text": [
      "Cleaned data saved successfully in 'data_clean/clean_data.csv'.\n"
     ]
    }
   ],
   "source": [
    "df_cleaned.to_csv(\"/Users/dgmmz/OneDrive - University of Missouri/Documents/PDS/Assignment-1/Frailty_Analysis/data_clean/clean_data.csv\", index=False)\n",
    "print(\"Cleaned data saved successfully in 'data_clean/clean_data.csv'.\")\n"
   ]
  },
  {
   "cell_type": "markdown",
   "id": "96682320-41b6-47fa-a15c-8f893f648581",
   "metadata": {},
   "source": [
    "Loading cleaned data\n"
   ]
  },
  {
   "cell_type": "code",
   "execution_count": 750,
   "id": "7e183904-f350-4569-a866-50372ba6ffbc",
   "metadata": {},
   "outputs": [],
   "source": [
    "df_cleaned = pd.read_csv(\"/Users/dgmmz/OneDrive - University of Missouri/Documents/PDS/Assignment-1/Frailty_Analysis/data_clean/clean_data.csv\")\n"
   ]
  },
  {
   "cell_type": "markdown",
   "id": "2bc4a9ff-d7f4-442f-81a8-91d47ae83db5",
   "metadata": {},
   "source": [
    "Plotting Grip Strength vs. Frailty\n"
   ]
  },
  {
   "cell_type": "code",
   "execution_count": 751,
   "id": "77573b19-4788-45fb-a543-9307edecc425",
   "metadata": {},
   "outputs": [],
   "source": [
    "plt.clf()\n"
   ]
  },
  {
   "cell_type": "code",
   "execution_count": 752,
   "id": "11553c80-be5c-420e-a16c-cb56ed43ffa2",
   "metadata": {},
   "outputs": [
    {
     "data": {
      "text/plain": [
       "Text(0.5, 1.0, 'Grip Strength vs. Frailty')"
      ]
     },
     "execution_count": 752,
     "metadata": {},
     "output_type": "execute_result"
    }
   ],
   "source": [
    "plt.figure(figsize=(8, 5))\n",
    "sns.boxplot(x=df_cleaned[\"Frailty\"], y=df_cleaned[\"Grip Strength\"])\n",
    "plt.xlabel(\"Frailty (0 = No, 1 = Yes)\")\n",
    "plt.ylabel(\"Grip Strength (kg)\")\n",
    "plt.title(\"Grip Strength vs. Frailty\")"
   ]
  },
  {
   "cell_type": "markdown",
   "id": "c4401ebe-b033-4b97-b4d3-62719ad06535",
   "metadata": {},
   "source": [
    "Saving the Plot in a new directory"
   ]
  },
  {
   "cell_type": "code",
   "execution_count": 753,
   "id": "7c279cda-16ee-4e77-a8ff-807cde3f072c",
   "metadata": {},
   "outputs": [],
   "source": [
    "os.makedirs(\"/Users/dgmmz/OneDrive - University of Missouri/Documents/PDS/Assignment-1/Frailty_Analysis/analysis\", exist_ok=True)"
   ]
  },
  {
   "cell_type": "code",
   "execution_count": 754,
   "id": "ffb61a09-6e3c-46cf-a39e-3c53118815e0",
   "metadata": {},
   "outputs": [],
   "source": [
    "plt.savefig(\"/Users/dgmmz/OneDrive - University of Missouri/Documents/PDS/Assignment-1/Frailty_Analysis/analysis/frailty_analysis.png\", format='png', bbox_inches='tight')"
   ]
  },
  {
   "cell_type": "code",
   "execution_count": 755,
   "id": "7fedcb02-f1fa-4796-864c-161b90293231",
   "metadata": {},
   "outputs": [
    {
     "data": {
      "text/plain": [
       "<Figure size 640x480 with 0 Axes>"
      ]
     },
     "metadata": {},
     "output_type": "display_data"
    },
    {
     "data": {
      "image/png": "[encoded data removed]",
      "text/plain": [
       "<Figure size 800x500 with 1 Axes>"
      ]
     },
     "metadata": {},
     "output_type": "display_data"
    }
   ],
   "source": [
    "plt.show()"
   ]
  },
  {
   "cell_type": "code",
   "execution_count": null,
   "id": "bc392c75-c5c8-4739-8c4d-8b2289a4f06b",
   "metadata": {},
   "outputs": [],
   "source": []
  }
 ],
 "metadata": {
  "kernelspec": {
   "display_name": "Python 3 (ipykernel)",
   "language": "python",
   "name": "python3"
  },
  "language_info": {
   "codemirror_mode": {
    "name": "ipython",
    "version": 3
   },
   "file_extension": ".py",
   "mimetype": "text/x-python",
   "name": "python",
   "nbconvert_exporter": "python",
   "pygments_lexer": "ipython3",
   "version": "3.12.7"
  }
 },
 "nbformat": 4,
 "nbformat_minor": 5
}
